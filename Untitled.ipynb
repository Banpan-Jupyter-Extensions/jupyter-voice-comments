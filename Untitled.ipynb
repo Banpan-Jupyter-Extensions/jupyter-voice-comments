{
 "cells": [
  {
   "cell_type": "markdown",
   "id": "7dce7590-135d-49aa-9f3c-ccbdb42135c3",
   "metadata": {},
   "source": [
    "Pizza"
   ]
  },
  {
   "cell_type": "markdown",
   "id": "d61ff051-1649-4aa9-b952-58a4a79e432f",
   "metadata": {},
   "source": [
    "Apple"
   ]
  },
  {
   "cell_type": "markdown",
   "id": "9a9831eb-9370-4b0c-a9c3-627957c50ef2",
   "metadata": {},
   "source": [
    "hello"
   ]
  },
  {
   "cell_type": "markdown",
   "id": "a39d5abb-23de-4fa9-b90d-6d1e281b2685",
   "metadata": {},
   "source": [
    "super"
   ]
  },
  {
   "cell_type": "markdown",
   "id": "4139351e-2c11-4f77-ac67-46309fce1095",
   "metadata": {},
   "source": [
    "Danish"
   ]
  },
  {
   "cell_type": "code",
   "execution_count": null,
   "id": "b8401041-a17c-42a1-bcb8-e166cfb8d855",
   "metadata": {},
   "outputs": [],
   "source": [
    "Danish"
   ]
  },
  {
   "cell_type": "markdown",
   "id": "5423ff9c-1fa8-4f0f-9ba2-c5b48097bec1",
   "metadata": {},
   "source": [
    "testing"
   ]
  },
  {
   "cell_type": "code",
   "execution_count": null,
   "id": "b973bd90-90de-4764-acf4-e5e5ec2c4419",
   "metadata": {},
   "outputs": [],
   "source": []
  }
 ],
 "metadata": {
  "kernelspec": {
   "display_name": "Python 3 (ipykernel)",
   "language": "python",
   "name": "python3"
  },
  "language_info": {
   "codemirror_mode": {
    "name": "ipython",
    "version": 3
   },
   "file_extension": ".py",
   "mimetype": "text/x-python",
   "name": "python",
   "nbconvert_exporter": "python",
   "pygments_lexer": "ipython3",
   "version": "3.10.10"
  }
 },
 "nbformat": 4,
 "nbformat_minor": 5
}
