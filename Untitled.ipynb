{
 "cells": [
  {
   "cell_type": "markdown",
   "id": "1a2d99d6-6eca-4c04-a344-543c38c367fd",
   "metadata": {},
   "source": [
    "test"
   ]
  },
  {
   "cell_type": "markdown",
   "id": "353d6344-4b17-4702-9610-4b81f5f654b5",
   "metadata": {},
   "source": [
    "Apple"
   ]
  },
  {
   "cell_type": "code",
   "execution_count": null,
   "id": "418289ce-f44b-41c0-9492-9a422553841a",
   "metadata": {},
   "outputs": [],
   "source": []
  }
 ],
 "metadata": {
  "kernelspec": {
   "display_name": "Python 3 (ipykernel)",
   "language": "python",
   "name": "python3"
  },
  "language_info": {
   "codemirror_mode": {
    "name": "ipython",
    "version": 3
   },
   "file_extension": ".py",
   "mimetype": "text/x-python",
   "name": "python",
   "nbconvert_exporter": "python",
   "pygments_lexer": "ipython3",
   "version": "3.10.10"
  }
 },
 "nbformat": 4,
 "nbformat_minor": 5
}
