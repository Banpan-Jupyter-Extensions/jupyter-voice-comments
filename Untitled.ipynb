{
 "cells": [
  {
   "cell_type": "markdown",
   "id": "6725d958-eaa8-49d7-8648-7ad682f93e8d",
   "metadata": {},
   "source": [
    "plop"
   ]
  },
  {
   "cell_type": "markdown",
   "id": "3c9f7a1d-9a81-4a6b-9034-a1e7588ee5fe",
   "metadata": {},
   "source": [
    "purple"
   ]
  },
  {
   "cell_type": "markdown",
   "id": "e06cd300-653c-4706-a6b2-cbe04c8f058d",
   "metadata": {},
   "source": [
    "testing"
   ]
  },
  {
   "cell_type": "markdown",
   "id": "d889a262-8523-4176-8ee1-01bf37ce65ad",
   "metadata": {},
   "source": [
    "Apple"
   ]
  },
  {
   "cell_type": "markdown",
   "id": "9d69da55-1d00-4142-b3a1-7de57e76aeb9",
   "metadata": {},
   "source": [
    "testing"
   ]
  },
  {
   "cell_type": "markdown",
   "id": "21530312-c302-434a-90ab-2b748d5bd9ca",
   "metadata": {},
   "source": [
    "hello"
   ]
  },
  {
   "cell_type": "code",
   "execution_count": 9,
   "id": "83f71bc8-989d-434f-981a-e95bac471d90",
   "metadata": {},
   "outputs": [],
   "source": [
    "def sum_list(numbers):\n",
    "  total = 0\n",
    "  for num in numbers:\n",
    "    total += num\n",
    "  return total"
   ]
  },
  {
   "cell_type": "code",
   "execution_count": 10,
   "id": "06b335a5-f1bb-4ca1-87d9-3ff4a4602d66",
   "metadata": {},
   "outputs": [
    {
     "data": {
      "text/plain": [
       "30"
      ]
     },
     "execution_count": 10,
     "metadata": {},
     "output_type": "execute_result"
    }
   ],
   "source": [
    "sum_list([2,4,6,8,10])\n"
   ]
  },
  {
   "cell_type": "code",
   "execution_count": 11,
   "id": "12ba19c7-383d-4f7b-b261-e53be729be87",
   "metadata": {},
   "outputs": [],
   "source": [
    "def transpose_matrix(matrix):\n",
    "  transposed_matrix = []\n",
    "  for i in range(len(matrix[0])):\n",
    "    transposed_row = []\n",
    "    for row in matrix:\n",
    "      transposed_row.append(row[i])\n",
    "    transposed_matrix.append(transposed_row)\n",
    "  return transposed_matrix"
   ]
  },
  {
   "cell_type": "code",
   "execution_count": 12,
   "id": "08dec22a-70f4-4829-87b4-2fd8d6472bcf",
   "metadata": {},
   "outputs": [],
   "source": [
    "matrix = [[1,2,3],[4,5,6],[7,8,9]]"
   ]
  },
  {
   "cell_type": "code",
   "execution_count": 13,
   "id": "b4fc4a03-eed8-484e-a6c2-0056398221fe",
   "metadata": {},
   "outputs": [
    {
     "data": {
      "text/plain": [
       "[[1, 4, 7], [2, 5, 8], [3, 6, 9]]"
      ]
     },
     "execution_count": 13,
     "metadata": {},
     "output_type": "execute_result"
    }
   ],
   "source": [
    "transpose_matrix(matrix)"
   ]
  },
  {
   "cell_type": "code",
   "execution_count": null,
   "id": "af848844-1dcb-45b8-8d34-5e328661755d",
   "metadata": {},
   "outputs": [],
   "source": []
  }
 ],
 "metadata": {
  "kernelspec": {
   "display_name": "Python 3 (ipykernel)",
   "language": "python",
   "name": "python3"
  },
  "language_info": {
   "codemirror_mode": {
    "name": "ipython",
    "version": 3
   },
   "file_extension": ".py",
   "mimetype": "text/x-python",
   "name": "python",
   "nbconvert_exporter": "python",
   "pygments_lexer": "ipython3",
   "version": "3.10.10"
  }
 },
 "nbformat": 4,
 "nbformat_minor": 5
}
