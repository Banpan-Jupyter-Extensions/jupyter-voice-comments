{
 "cells": [
  {
   "cell_type": "markdown",
   "id": "227565c4-8320-401f-ba76-43d4b8c74798",
   "metadata": {},
   "source": [
    "a function that takes in a number and finds the closest to prime numbers to that number"
   ]
  },
  {
   "cell_type": "code",
   "execution_count": 29,
   "id": "b221a9a7-cce1-4bcb-a2ec-e080365d3d68",
   "metadata": {},
   "outputs": [],
   "source": [
    "def closest_prime_numbers(num):\n",
    "    # Find the closest prime numbers to the given number\n",
    "    prime_numbers = []\n",
    "    for i in range(2, num):\n",
    "        if all(i % j != 0 for j in range(2, i)):\n",
    "            prime_numbers.append(i)\n",
    "    closest_prime_numbers = []\n",
    "    for prime_number in prime_numbers:\n",
    "        if prime_number < num:\n",
    "            closest_prime_numbers.append(prime_number)\n",
    "    return closest_prime_numbers"
   ]
  },
  {
   "cell_type": "markdown",
   "id": "ee30db76-f216-4556-8846-8de93ffdf703",
   "metadata": {},
   "source": [
    "function that adds one to a number"
   ]
  },
  {
   "cell_type": "code",
   "execution_count": 1,
   "id": "08d410a1-d047-4db7-9ad9-130f870efdc8",
   "metadata": {},
   "outputs": [],
   "source": [
    "def add_one(num):\n",
    "  return num + 1"
   ]
  },
  {
   "cell_type": "markdown",
   "id": "e2ff541b-2c4e-48c7-bf5a-e9417b8ce6d1",
   "metadata": {},
   "source": [
    "a function that takes in a number and finds the closest prime number to that number"
   ]
  },
  {
   "cell_type": "code",
   "execution_count": 2,
   "id": "33d4a6ce-a90f-4bec-84f4-9757a229cc61",
   "metadata": {},
   "outputs": [],
   "source": [
    "def closest_prime(num):\n",
    "    # check if the number is already prime\n",
    "    if is_prime(num):\n",
    "        return num\n",
    "    \n",
    "    # if not, check the next higher and lower numbers\n",
    "    # until a prime number is found\n",
    "    lower = num - 1\n",
    "    higher = num + 1\n",
    "    while True:\n",
    "        if is_prime(lower):\n",
    "            return lower\n",
    "        elif is_prime(higher):\n",
    "            return higher\n",
    "        lower -= 1\n",
    "        higher += 1"
   ]
  },
  {
   "cell_type": "markdown",
   "id": "4be7925a-4bee-4895-89e0-fb04394128bd",
   "metadata": {},
   "source": [
    "a function that takes in a number and finds the closest prime number to that number"
   ]
  },
  {
   "cell_type": "code",
   "execution_count": 4,
   "id": "471c80eb-4c5a-485c-aba2-33f27423d0e1",
   "metadata": {},
   "outputs": [],
   "source": [
    "def closest_prime(num):\n",
    "    # check if the number is already prime\n",
    "    if is_prime(num):\n",
    "        return num\n",
    "    \n",
    "    # check if the number is even\n",
    "    if num % 2 == 0:\n",
    "        num += 1\n",
    "    \n",
    "    # loop until a prime number is found\n",
    "    while not is_prime(num):\n",
    "        num += 2\n",
    "    \n",
    "    return num\n",
    "def is_prime(num):\n",
    "    for i in range(2, num):\n",
    "        if num % i == 0:\n",
    "            return False\n",
    "    return True"
   ]
  },
  {
   "cell_type": "code",
   "execution_count": 5,
   "id": "35e11db0-9327-4b6b-ae95-d5e1d1050ae0",
   "metadata": {},
   "outputs": [
    {
     "data": {
      "text/plain": [
       "18287"
      ]
     },
     "execution_count": 5,
     "metadata": {},
     "output_type": "execute_result"
    }
   ],
   "source": [
    "closest_prime(18273)"
   ]
  },
  {
   "cell_type": "code",
   "execution_count": null,
   "id": "53765f5e-5a82-41a9-85f4-3718ecbfbbc2",
   "metadata": {},
   "outputs": [],
   "source": []
  }
 ],
 "metadata": {
  "kernelspec": {
   "display_name": "Python 3 (ipykernel)",
   "language": "python",
   "name": "python3"
  },
  "language_info": {
   "codemirror_mode": {
    "name": "ipython",
    "version": 3
   },
   "file_extension": ".py",
   "mimetype": "text/x-python",
   "name": "python",
   "nbconvert_exporter": "python",
   "pygments_lexer": "ipython3",
   "version": "3.10.10"
  }
 },
 "nbformat": 4,
 "nbformat_minor": 5
}
