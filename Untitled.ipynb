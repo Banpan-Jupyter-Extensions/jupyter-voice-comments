{
 "cells": [
  {
   "cell_type": "markdown",
   "id": "227565c4-8320-401f-ba76-43d4b8c74798",
   "metadata": {},
   "source": [
    "a function that takes in a number and finds the closest to prime numbers to that number"
   ]
  },
  {
   "cell_type": "code",
   "execution_count": 29,
   "id": "b221a9a7-cce1-4bcb-a2ec-e080365d3d68",
   "metadata": {},
   "outputs": [],
   "source": [
    "def closest_prime_numbers(num):\n",
    "    # Find the closest prime numbers to the given number\n",
    "    prime_numbers = []\n",
    "    for i in range(2, num):\n",
    "        if all(i % j != 0 for j in range(2, i)):\n",
    "            prime_numbers.append(i)\n",
    "    closest_prime_numbers = []\n",
    "    for prime_number in prime_numbers:\n",
    "        if prime_number < num:\n",
    "            closest_prime_numbers.append(prime_number)\n",
    "    return closest_prime_numbers"
   ]
  },
  {
   "cell_type": "code",
   "execution_count": null,
   "id": "08d410a1-d047-4db7-9ad9-130f870efdc8",
   "metadata": {},
   "outputs": [],
   "source": []
  }
 ],
 "metadata": {
  "kernelspec": {
   "display_name": "Python 3 (ipykernel)",
   "language": "python",
   "name": "python3"
  },
  "language_info": {
   "codemirror_mode": {
    "name": "ipython",
    "version": 3
   },
   "file_extension": ".py",
   "mimetype": "text/x-python",
   "name": "python",
   "nbconvert_exporter": "python",
   "pygments_lexer": "ipython3",
   "version": "3.10.10"
  }
 },
 "nbformat": 4,
 "nbformat_minor": 5
}
